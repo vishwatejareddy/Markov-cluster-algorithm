{
 "cells": [
  {
   "cell_type": "code",
   "execution_count": 3,
   "metadata": {},
   "outputs": [],
   "source": [
    "import numpy as np\n",
    "from scipy.sparse import isspmatrix\n",
    "from sklearn.preprocessing import normalize\n",
    "import markov_clustering as mcl\n",
    "#adjacent matrix with self loops added:\n",
    "A=np.array([[1,2,2,0,0,0,0,0,0,0,0,0,0,0,0,0,0],\n",
    "            [2,1,3,1,0,0,0,0,0,0,0,0,0,0,0,0,0],\n",
    "            [2,3,1,0,0,0,0,0,0,0,0,0,0,0,0,0,0],\n",
    "            [0,0,0,1,2,0,4,0,0,0,0,0,0,0,0,0,0],\n",
    "            [0,0,0,2,1,2,3,1,0,0,0,0,0,0,0,0,0],\n",
    "            [0,0,0,0,2,1,4,0,0,0,0,1,0,0,0,0,0],\n",
    "            [0,0,0,4,3,4,1,0,0,0,0,0,0,0,0,0,0],\n",
    "            [0,0,0,0,0,0,0,1,3,4,0,2,0,0,0,0,0],\n",
    "            [0,0,0,0,0,0,0,3,1,3,0,2,0,0,0,0,0],\n",
    "            [0,0,0,0,0,0,0,0,3,1,4,0,0,0,0,0,0],\n",
    "            [0,0,0,0,0,0,0,0,0,4,1,3,0,0,0,0,0],\n",
    "            [0,0,0,0,0,1,0,2,4,0,3,1,0,0,0,0,0],\n",
    "            [0,0,0,0,0,0,0,0,0,1,0,0,1,3,2,0,0],\n",
    "            [0,0,0,0,0,0,0,0,0,0,0,0,3,1,3,4,0],\n",
    "            [0,0,0,0,0,0,0,0,0,0,0,1,2,3,1,0,0],\n",
    "            [0,0,0,0,0,0,0,0,0,0,0,0,0,4,0,1,0],\n",
    "            [0,0,0,0,0,0,0,0,1,0,0,0,0,0,0,0,1]])\n",
    "def expand(matrix,e):\n",
    "    return np.linalg.matrix_power(matrix, e)\n",
    "def inflate(matrix,r):\n",
    "    return normalize(np.power(matrix,r),norm=\"l1\",axis=0) \n",
    "def multiple(x):\n",
    "    list1=[]\n",
    "    for i in range(0,100,x):\n",
    "        if i!=0:\n",
    "            list1.append(i)\n",
    "    return list1\n",
    "list1=multiple(10)"
   ]
  },
  {
   "cell_type": "code",
   "execution_count": 5,
   "metadata": {},
   "outputs": [],
   "source": [
    "def converged(matrix1, matrix2):\n",
    "    if isspmatrix(matrix1) or isspmatrix(matrix2):\n",
    "        return sparse_allclose(matrix1, matrix2)\n",
    "    return np.allclose(matrix1, matrix2)\n",
    "def iterate(matrix, expansion, inflation):\n",
    "    matrix = expand(matrix, expansion)\n",
    "    matrix = inflate(matrix, inflation)\n",
    "    return matrix"
   ]
  },
  {
   "cell_type": "code",
   "execution_count": 23,
   "metadata": {},
   "outputs": [],
   "source": [
    "def run_mcl(matrix, expansion=2, inflation=2,maxiterations=100):\n",
    "    # Normalize\n",
    "    matrix = normalize(matrix)\n",
    "\n",
    "    # iterations\n",
    "    for i in range(maxiterations):\n",
    "       \n",
    "\n",
    "        # store current matrix for convergence checking\n",
    "        last_mat = matrix.copy()\n",
    "\n",
    "        # perform MCL expansion and inflation\n",
    "        matrix = iterate(matrix, expansion, inflation)\n",
    "         \n",
    "        #if i+1 in multiple(10):\n",
    "           # print(\"Iteration {}\".format(i + 1))\n",
    "            #print(matrix)\n",
    "            #print(\"clusters for {} iteration are {}\".format(i+1,mcl.get_clusters(matrix)))\n",
    "        #if i+1 == 10:\n",
    "       #     print(\"FINAL ADJACENCY MATRIX AFTER 10 ItERATIONS:\")\n",
    "            #print(matrix)\n",
    "           # print(\"clusters for {} iteration are {}\".format(i+1,mcl.get_clusters(matrix)))\n",
    "           # break;\n",
    "\n",
    "\n",
    "        #Check for convergence\n",
    "        if i % 1==0:\n",
    "            if converged(matrix, last_mat):\n",
    "                print(\"Converged after {} iteration{}\".format(i + 1, \"s\" if i > 0 else \"\"))\n",
    "                print(\"clusters for {} iteration are {}\".format(i+1,mcl.get_clusters(matrix)))\n",
    "                break;\n",
    "    print(\"-\" * 50)\n"
   ]
  },
  {
   "cell_type": "code",
   "execution_count": 24,
   "metadata": {
    "scrolled": false
   },
   "outputs": [
    {
     "name": "stdout",
     "output_type": "stream",
     "text": [
      "Converged after 19 iterations\n",
      "clusters for 19 iteration are [(0, 1, 2), (3, 4, 5, 6), (7, 8, 9, 10, 11, 16), (12, 13, 14, 15)]\n",
      "--------------------------------------------------\n"
     ]
    }
   ],
   "source": [
    "run_mcl(A,expansion=2,inflation=1.5,maxiterations=100)"
   ]
  },
  {
   "cell_type": "code",
   "execution_count": 25,
   "metadata": {
    "scrolled": false
   },
   "outputs": [
    {
     "name": "stdout",
     "output_type": "stream",
     "text": [
      "Converged after 9 iterations\n",
      "clusters for 9 iteration are [(0, 1, 2), (3, 4, 5, 6), (7, 8, 9, 10, 11), (7, 8, 10, 16), (7, 9, 10, 11), (12, 13, 14, 15)]\n",
      "--------------------------------------------------\n"
     ]
    }
   ],
   "source": [
    "run_mcl(A,expansion=2,inflation=2.5,maxiterations=100)"
   ]
  },
  {
   "cell_type": "code",
   "execution_count": 26,
   "metadata": {
    "scrolled": false
   },
   "outputs": [
    {
     "name": "stdout",
     "output_type": "stream",
     "text": [
      "Converged after 15 iterations\n",
      "clusters for 15 iteration are [(0, 1, 2, 3)]\n",
      "--------------------------------------------------\n"
     ]
    }
   ],
   "source": [
    "A=np.array([[1,1,1,1],\n",
    "          [1,1,0,1],\n",
    "          [1,0,1,0],\n",
    "          [1,1,0,1]])\n",
    "run_mcl(A,expansion=2,inflation=1.5,maxiterations=100)"
   ]
  },
  {
   "cell_type": "code",
   "execution_count": 27,
   "metadata": {
    "scrolled": false
   },
   "outputs": [
    {
     "name": "stdout",
     "output_type": "stream",
     "text": [
      "Converged after 12 iterations\n",
      "clusters for 12 iteration are [(0, 1, 3), (2,)]\n",
      "--------------------------------------------------\n"
     ]
    }
   ],
   "source": [
    "run_mcl(A,expansion=2,inflation=2.5,maxiterations=100)"
   ]
  },
  {
   "cell_type": "code",
   "execution_count": 8,
   "metadata": {
    "scrolled": false
   },
   "outputs": [
    {
     "name": "stdout",
     "output_type": "stream",
     "text": [
      "Converged after 10 iterations\n",
      "--------------------------------------------------\n",
      "clusters for final adjacency matrix [(0, 1, 2), (3, 4, 5, 6), (7, 8, 9, 10, 11), (7, 8, 9, 10, 11, 16), (12, 13, 14, 15)]\n",
      "Final Adjacency Matrix\n"
     ]
    },
    {
     "data": {
      "text/plain": [
       "array([[1.00000000e+000, 1.00000000e+000, 1.00000000e+000,\n",
       "        0.00000000e+000, 0.00000000e+000, 0.00000000e+000,\n",
       "        0.00000000e+000, 0.00000000e+000, 0.00000000e+000,\n",
       "        0.00000000e+000, 0.00000000e+000, 0.00000000e+000,\n",
       "        0.00000000e+000, 0.00000000e+000, 0.00000000e+000,\n",
       "        0.00000000e+000, 0.00000000e+000],\n",
       "       [1.13694362e-044, 1.13694362e-044, 1.13694362e-044,\n",
       "        0.00000000e+000, 0.00000000e+000, 0.00000000e+000,\n",
       "        0.00000000e+000, 0.00000000e+000, 0.00000000e+000,\n",
       "        0.00000000e+000, 0.00000000e+000, 0.00000000e+000,\n",
       "        0.00000000e+000, 0.00000000e+000, 0.00000000e+000,\n",
       "        0.00000000e+000, 0.00000000e+000],\n",
       "       [1.91923212e-022, 1.91923212e-022, 1.91923212e-022,\n",
       "        0.00000000e+000, 0.00000000e+000, 0.00000000e+000,\n",
       "        0.00000000e+000, 0.00000000e+000, 0.00000000e+000,\n",
       "        0.00000000e+000, 0.00000000e+000, 0.00000000e+000,\n",
       "        0.00000000e+000, 0.00000000e+000, 0.00000000e+000,\n",
       "        0.00000000e+000, 0.00000000e+000],\n",
       "       [0.00000000e+000, 0.00000000e+000, 0.00000000e+000,\n",
       "        2.72334791e-084, 2.72334791e-084, 2.72334791e-084,\n",
       "        2.72334791e-084, 0.00000000e+000, 0.00000000e+000,\n",
       "        0.00000000e+000, 0.00000000e+000, 0.00000000e+000,\n",
       "        0.00000000e+000, 0.00000000e+000, 0.00000000e+000,\n",
       "        0.00000000e+000, 0.00000000e+000],\n",
       "       [0.00000000e+000, 0.00000000e+000, 0.00000000e+000,\n",
       "        8.90740791e-028, 8.90740791e-028, 8.90740791e-028,\n",
       "        8.90740791e-028, 0.00000000e+000, 0.00000000e+000,\n",
       "        0.00000000e+000, 0.00000000e+000, 0.00000000e+000,\n",
       "        0.00000000e+000, 0.00000000e+000, 0.00000000e+000,\n",
       "        0.00000000e+000, 0.00000000e+000],\n",
       "       [0.00000000e+000, 0.00000000e+000, 0.00000000e+000,\n",
       "        9.49993953e-090, 9.49993953e-090, 9.49993953e-090,\n",
       "        9.49993953e-090, 0.00000000e+000, 0.00000000e+000,\n",
       "        0.00000000e+000, 0.00000000e+000, 0.00000000e+000,\n",
       "        0.00000000e+000, 0.00000000e+000, 0.00000000e+000,\n",
       "        0.00000000e+000, 0.00000000e+000],\n",
       "       [0.00000000e+000, 0.00000000e+000, 0.00000000e+000,\n",
       "        1.00000000e+000, 1.00000000e+000, 1.00000000e+000,\n",
       "        1.00000000e+000, 0.00000000e+000, 0.00000000e+000,\n",
       "        0.00000000e+000, 0.00000000e+000, 0.00000000e+000,\n",
       "        0.00000000e+000, 0.00000000e+000, 0.00000000e+000,\n",
       "        0.00000000e+000, 0.00000000e+000],\n",
       "       [0.00000000e+000, 0.00000000e+000, 0.00000000e+000,\n",
       "        0.00000000e+000, 0.00000000e+000, 0.00000000e+000,\n",
       "        0.00000000e+000, 0.00000000e+000, 0.00000000e+000,\n",
       "        2.14238432e-278, 0.00000000e+000, 2.14238432e-278,\n",
       "        0.00000000e+000, 0.00000000e+000, 0.00000000e+000,\n",
       "        0.00000000e+000, 0.00000000e+000],\n",
       "       [0.00000000e+000, 0.00000000e+000, 0.00000000e+000,\n",
       "        0.00000000e+000, 0.00000000e+000, 0.00000000e+000,\n",
       "        0.00000000e+000, 0.00000000e+000, 0.00000000e+000,\n",
       "        2.86067881e-252, 1.00803350e-303, 2.86067881e-252,\n",
       "        0.00000000e+000, 0.00000000e+000, 0.00000000e+000,\n",
       "        0.00000000e+000, 0.00000000e+000],\n",
       "       [0.00000000e+000, 0.00000000e+000, 0.00000000e+000,\n",
       "        0.00000000e+000, 0.00000000e+000, 0.00000000e+000,\n",
       "        0.00000000e+000, 2.34804591e-199, 2.60633797e-254,\n",
       "        1.30454046e-115, 4.59688266e-167, 1.30454046e-115,\n",
       "        0.00000000e+000, 0.00000000e+000, 0.00000000e+000,\n",
       "        0.00000000e+000, 0.00000000e+000],\n",
       "       [0.00000000e+000, 0.00000000e+000, 0.00000000e+000,\n",
       "        0.00000000e+000, 0.00000000e+000, 0.00000000e+000,\n",
       "        0.00000000e+000, 0.00000000e+000, 0.00000000e+000,\n",
       "        0.00000000e+000, 0.00000000e+000, 0.00000000e+000,\n",
       "        0.00000000e+000, 0.00000000e+000, 0.00000000e+000,\n",
       "        0.00000000e+000, 0.00000000e+000],\n",
       "       [0.00000000e+000, 0.00000000e+000, 0.00000000e+000,\n",
       "        0.00000000e+000, 0.00000000e+000, 0.00000000e+000,\n",
       "        0.00000000e+000, 1.79990271e-084, 1.99789739e-139,\n",
       "        1.00000000e+000, 3.52375630e-052, 1.00000000e+000,\n",
       "        0.00000000e+000, 0.00000000e+000, 0.00000000e+000,\n",
       "        0.00000000e+000, 0.00000000e+000],\n",
       "       [0.00000000e+000, 0.00000000e+000, 0.00000000e+000,\n",
       "        0.00000000e+000, 0.00000000e+000, 0.00000000e+000,\n",
       "        0.00000000e+000, 0.00000000e+000, 0.00000000e+000,\n",
       "        0.00000000e+000, 0.00000000e+000, 0.00000000e+000,\n",
       "        9.10278608e-124, 9.10278608e-124, 9.10278608e-124,\n",
       "        9.10278608e-124, 0.00000000e+000],\n",
       "       [0.00000000e+000, 0.00000000e+000, 0.00000000e+000,\n",
       "        0.00000000e+000, 0.00000000e+000, 0.00000000e+000,\n",
       "        0.00000000e+000, 0.00000000e+000, 0.00000000e+000,\n",
       "        0.00000000e+000, 0.00000000e+000, 0.00000000e+000,\n",
       "        1.00000000e+000, 1.00000000e+000, 1.00000000e+000,\n",
       "        1.00000000e+000, 0.00000000e+000],\n",
       "       [0.00000000e+000, 0.00000000e+000, 0.00000000e+000,\n",
       "        0.00000000e+000, 0.00000000e+000, 0.00000000e+000,\n",
       "        0.00000000e+000, 0.00000000e+000, 0.00000000e+000,\n",
       "        0.00000000e+000, 0.00000000e+000, 0.00000000e+000,\n",
       "        9.10278608e-124, 9.10278608e-124, 9.10278608e-124,\n",
       "        9.10278608e-124, 0.00000000e+000],\n",
       "       [0.00000000e+000, 0.00000000e+000, 0.00000000e+000,\n",
       "        0.00000000e+000, 0.00000000e+000, 0.00000000e+000,\n",
       "        0.00000000e+000, 0.00000000e+000, 0.00000000e+000,\n",
       "        0.00000000e+000, 0.00000000e+000, 0.00000000e+000,\n",
       "        3.33316721e-252, 3.33316721e-252, 3.33316721e-252,\n",
       "        3.33316721e-252, 0.00000000e+000],\n",
       "       [0.00000000e+000, 0.00000000e+000, 0.00000000e+000,\n",
       "        0.00000000e+000, 0.00000000e+000, 0.00000000e+000,\n",
       "        0.00000000e+000, 1.00000000e+000, 1.00000000e+000,\n",
       "        1.74035115e-058, 1.00000000e+000, 3.51242134e-059,\n",
       "        0.00000000e+000, 0.00000000e+000, 0.00000000e+000,\n",
       "        0.00000000e+000, 1.00000000e+000]])"
      ]
     },
     "execution_count": 8,
     "metadata": {},
     "output_type": "execute_result"
    }
   ],
   "source": [
    "run_mcl(A,expansion=2,inflation=2.1,maxiterations=100)"
   ]
  },
  {
   "cell_type": "code",
   "execution_count": 28,
   "metadata": {},
   "outputs": [
    {
     "ename": "SyntaxError",
     "evalue": "invalid syntax (<ipython-input-28-591998411d51>, line 2)",
     "output_type": "error",
     "traceback": [
      "\u001b[1;36m  File \u001b[1;32m\"<ipython-input-28-591998411d51>\"\u001b[1;36m, line \u001b[1;32m2\u001b[0m\n\u001b[1;33m    def(list1):\u001b[0m\n\u001b[1;37m       ^\u001b[0m\n\u001b[1;31mSyntaxError\u001b[0m\u001b[1;31m:\u001b[0m invalid syntax\n"
     ]
    }
   ],
   "source": [
    "import re\n",
    "def(list1):\n",
    "    list1=[(0, 1, 2), (3, 4, 5, 6), (7, 8, 9, 10, 11), (7, 8, 9, 10, 11, 16), (12, 13, 14, 15)]\n",
    "    string=str(list1)\n",
    "    print(string)\n",
    "    replacements = {'0': 'A', '1': 'B', '2': 'C', '3': 'D', '4': 'E' ,'5': 'F', '6': 'G', '7': 'H' , '8': 'J' , '9': 'K' , '10': 'L' , '11': 'M', '12': 'N', '13': 'P', '14': 'Q', '15': 'R', '16': 'S'}\n",
    "    converted_text = re.sub('(\\d+)', lambda m: replacements[m.group()],string)\n",
    "    return converted_text"
   ]
  },
  {
   "cell_type": "code",
   "execution_count": 39,
   "metadata": {},
   "outputs": [
    {
     "data": {
      "text/plain": [
       "array([[0.18224583],\n",
       "       [0.        ],\n",
       "       [0.02278073],\n",
       "       [0.25469629],\n",
       "       [0.        ],\n",
       "       [0.42190501],\n",
       "       [0.11837214]])"
      ]
     },
     "execution_count": 39,
     "metadata": {},
     "output_type": "execute_result"
    }
   ],
   "source": [
    "matrix=np.array([[0.2],[0],[0.05],[0.25],[0],[0.35],[0.15]])\n",
    "C=np.power(matrix,1.5)\n",
    "N=normalize(C,norm=\"l1\",axis=0)\n",
    "inflate(matrix,1.5)"
   ]
  },
  {
   "cell_type": "code",
   "execution_count": 40,
   "metadata": {},
   "outputs": [
    {
     "name": "stdout",
     "output_type": "stream",
     "text": [
      "[[0.18224583]\n",
      " [0.        ]\n",
      " [0.02278073]\n",
      " [0.25469629]\n",
      " [0.        ]\n",
      " [0.42190501]\n",
      " [0.11837214]]\n"
     ]
    }
   ],
   "source": [
    "print(N)"
   ]
  },
  {
   "cell_type": "markdown",
   "metadata": {},
   "source": []
  }
 ],
 "metadata": {
  "kernelspec": {
   "display_name": "Python 3",
   "language": "python",
   "name": "python3"
  },
  "language_info": {
   "codemirror_mode": {
    "name": "ipython",
    "version": 3
   },
   "file_extension": ".py",
   "mimetype": "text/x-python",
   "name": "python",
   "nbconvert_exporter": "python",
   "pygments_lexer": "ipython3",
   "version": "3.7.4"
  }
 },
 "nbformat": 4,
 "nbformat_minor": 2
}
